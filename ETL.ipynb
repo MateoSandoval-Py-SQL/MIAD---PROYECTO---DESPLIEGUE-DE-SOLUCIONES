{
 "cells": [
  {
   "cell_type": "code",
   "execution_count": 7,
   "id": "0a9c7313",
   "metadata": {},
   "outputs": [],
   "source": [
    "import os\n",
    "import pandas as pd\n",
    "\n",
    "dir = os.getcwd()\n",
    "\n",
    "cities = pd.read_excel(os.path.join(dir, 'Data', 'municipios_seleccionados.xlsx'))\n",
    "stations = pd.read_csv(os.path.join(dir, 'Data', 'Catálogo_Nacional_de_Estaciones_del_IDEAM_20251024.csv'))"
   ]
  },
  {
   "cell_type": "code",
   "execution_count": 15,
   "id": "de5d43da",
   "metadata": {},
   "outputs": [],
   "source": [
    "# Unir por Municipio\n",
    "stations_selected = pd.merge(\n",
    "    cities[['municipio']],                # municipios seleccionados\n",
    "    stations,\n",
    "    left_on='municipio',\n",
    "    right_on='Municipio',\n",
    "    how='inner'                           # solo coincidencias exactas\n",
    ")\n",
    "stations_selected = stations_selected[['Departamento','Municipio','Codigo','Nombre','Categoria','Tecnologia','LONGITUD','LATITUD','Altitud','Fecha_instalacion','Fecha_suspension']]"
   ]
  },
  {
   "cell_type": "code",
   "execution_count": 16,
   "id": "ccbf51d9",
   "metadata": {},
   "outputs": [
    {
     "name": "stdout",
     "output_type": "stream",
     "text": [
      "<class 'pandas.core.frame.DataFrame'>\n",
      "RangeIndex: 172 entries, 0 to 171\n",
      "Data columns (total 11 columns):\n",
      " #   Column             Non-Null Count  Dtype  \n",
      "---  ------             --------------  -----  \n",
      " 0   Departamento       172 non-null    object \n",
      " 1   Municipio          172 non-null    object \n",
      " 2   Codigo             172 non-null    int64  \n",
      " 3   Nombre             172 non-null    object \n",
      " 4   Categoria          172 non-null    object \n",
      " 5   Tecnologia         172 non-null    object \n",
      " 6   LONGITUD           172 non-null    float64\n",
      " 7   LATITUD            172 non-null    float64\n",
      " 8   Altitud            172 non-null    object \n",
      " 9   Fecha_instalacion  171 non-null    object \n",
      " 10  Fecha_suspension   55 non-null     object \n",
      "dtypes: float64(2), int64(1), object(8)\n",
      "memory usage: 14.9+ KB\n"
     ]
    }
   ],
   "source": [
    "# Seleccionar columnas solicitadas y renombrar si se desea coherencia\n",
    "\n",
    "stations_selected.info()"
   ]
  },
  {
   "cell_type": "code",
   "execution_count": null,
   "id": "2785afa7",
   "metadata": {},
   "outputs": [],
   "source": []
  }
 ],
 "metadata": {
  "kernelspec": {
   "display_name": "ia_cluster",
   "language": "python",
   "name": "python3"
  },
  "language_info": {
   "codemirror_mode": {
    "name": "ipython",
    "version": 3
   },
   "file_extension": ".py",
   "mimetype": "text/x-python",
   "name": "python",
   "nbconvert_exporter": "python",
   "pygments_lexer": "ipython3",
   "version": "3.11.13"
  }
 },
 "nbformat": 4,
 "nbformat_minor": 5
}
